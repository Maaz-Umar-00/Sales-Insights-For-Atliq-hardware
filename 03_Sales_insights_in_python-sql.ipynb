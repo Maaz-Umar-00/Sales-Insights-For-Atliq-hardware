{
 "cells": [
  {
   "cell_type": "markdown",
   "metadata": {},
   "source": [
    "<h1 style=\"font-family: 'Poppins', sans-serif; font-weight: 700; color: #1c1c1c; background: white; padding: 15px; border-radius: 10px; text-align: center; box-shadow: 0 4px 8px rgba(0, 0, 0, 0.5); letter-spacing: 1px; text-transform: capitalize; font-size: 1.5rem;\">\n",
    "  Project Title: <span style=\"color: #333333;\">Sales Insights For Atliq Hardware</span>\n",
    "</h1>"
   ]
  },
  {
   "cell_type": "markdown",
   "metadata": {},
   "source": [
    "<h1 style=\"font-family: 'Poppins', sans-serif; font-weight: 700; color: #1c1c1c; background: white; padding: 20px; border-radius: 15px; text-align: center; box-shadow: 0 4px 8px rgba(0, 0, 0, 0.1); letter-spacing: 1px; text-transform: capitalize; font-size: 1.5rem;\">\n",
    "  <span style=\"color: #1c1c1c; font-size: 2rem;\">👨‍💻</span> \n",
    "  Author: <span style=\"color: #333333;\">Maaz Umar</span><br>\n",
    "  <a href=\"https://github.com/Maaz-Umar-00\" style=\"color: #333333; text-decoration: none; font-size: 0.9rem;\">GitHub</a> |\n",
    "  <a href=\"https://www.linkedin.com/in/maaz-umar-178090307/\" style=\"color: #333333; text-decoration: none; font-size: 0.9rem;\">LinkedIn</a> |\n",
    "  <a href=\"mailto:maazumar2005@email.com\" style=\"color: #555555; text-decoration: none; font-size: 0.9rem;\">Email</a>\n",
    "\n",
    "</h1>"
   ]
  },
  {
   "cell_type": "markdown",
   "metadata": {},
   "source": [
    "<img src=\"./atliq_hardware_company_sales_insights_written_on_dashboard.jpeg\" alt=\"Mitron Bank\" style=\"width: 600px; display: block; margin: 0 auto;\" />"
   ]
  },
  {
   "cell_type": "markdown",
   "metadata": {},
   "source": [
    "<h1 style=\"font-family: 'Poppins', sans-serif; font-weight: 700; color: #1c1c1c; background: white; padding: 15px; border-radius: 10px; text-align: center; box-shadow: 0 4px 8px rgba(0, 0, 0, 0.5); letter-spacing: 1px; text-transform: capitalize; font-size: 1.5rem;\">\n",
    "  Meta-Data(About Dataset) <span style=\"color: #333333;\"></span>\n",
    "</h1>\n",
    "\n",
    "This dataset belongs to **Atliq Hardware** and contains sales and transaction data, which needs to be analyzed to get sales insights. The dataset consists of 5 tables with the following columns:\n",
    "\n",
    "1. **customers**\n",
    "2. **date**\n",
    "3. **markets**\n",
    "4. **products**\n",
    "5. **transactions**\n",
    "\n",
    "<h1 style=\"font-family: 'Poppins', sans-serif; font-weight: 700; color: #1c1c1c; background: white; padding: 12px; border-radius: 10px; text-align: left; box-shadow: 0 4px 8px rgba(0, 0, 0, 0.5); letter-spacing: 1px; text-transform: capitalize; font-size: 1.2rem;\">\n",
    "Table Descriptions and Column Details <span style=\"color: #333333;\"></span>\n",
    "</h1>\n",
    "\n",
    "### Table 1: `customers`\n",
    "- **customer_code**: Unique code for each customer.\n",
    "- **customer_name**: Name of the customer.\n",
    "- **customer_type**: Type of customer (e.g., Brick).\n",
    "\n",
    "### Table 2: `date`\n",
    "- **order_date**: The date when an order was placed.\n",
    "`It contains other date related columns`\n",
    "\n",
    "### Table 3: `markets`\n",
    "- **market_code**: Unique code for each market.\n",
    "- **market_name**: Name of the market.\n",
    "- **zone**: The geographic zone or region of the market.\n",
    "\n",
    "### Table 4: `products`\n",
    "- **product_code**: Unique code for each product.\n",
    "- **product_type**: Type of product.\n",
    "\n",
    "### Table 5: `transactions`\n",
    "- **product_code**: Code of the product involved in the transaction.\n",
    "- **customer_code**: Code of the customer who made the purchase.\n",
    "- **market_code**: Code of the market where the transaction occurred.\n",
    "- **order_date**: Date when the transaction took place.\n",
    "- **sales_qty**: Quantity of the product sold.\n",
    "- **currency**: The currency used in the transaction.\n",
    "- **profit_margin_percentage**: Percentage of profit margin for the transaction.\n",
    "- **profit_margin**: The absolute profit made in the transaction.\n",
    "- **cost_price**: The cost price of the product sold.\n"
   ]
  },
  {
   "cell_type": "markdown",
   "metadata": {},
   "source": [
    "<h1 style=\"font-family: 'Poppins', sans-serif; font-weight: 700; color: #1c1c1c; background: white; padding: 12px; border-radius: 10px; text-align: left; box-shadow: 0 4px 8px rgba(0, 0, 0, 0.5); letter-spacing: 1px; text-transform: capitalize; font-size: 1.2rem;\">\n",
    "Project Aim: <span style=\"color: #333333;\"></span>\n",
    "</h1>\n",
    "\n",
    "- The goal of this project is to analyze the sales data of **Atliq Hardware** to gain valuable insights into sales performance, customer behavior, market trends, and profitability. By exploring this data, we aim to identify key patterns, optimize sales strategies, and improve decision-making for the business.\n",
    "\n",
    "<h1 style=\"font-family: 'Poppins', sans-serif; font-weight: 700; color: #1c1c1c; background: white; padding: 12px; border-radius: 10px; text-align: left; box-shadow: 0 4px 8px rgba(0, 0, 0, 0.5); letter-spacing: 1px; text-transform: capitalize; font-size: 1.2rem;\">\n",
    "Key Findings:<span style=\"color: #333333;\"></span>\n",
    "</h1>\n",
    "\n",
    "- **Atliq Hardware's revenue peaked at $43 million in 2018, but declined by approximately 65% to $15 million by 2020.**\n",
    "- **Atliq Hardware** could consider implementing a subscription model for regular customers, allowing them to receive monthly supplies at a discounted rate, thereby ensuring steady revenue. \n",
    "- **Atliq Hardware** receives the highest revenue from **Delhi NCR**, where profits are also higher; however, the **profit margin** is surprisingly very low. \n",
    "\n",
    "To address this issue, the company should analyze cost structures in the region to identify inefficiencies and explore opportunities for reducing operational costs. Additionally, focusing on premium product offerings could enhance profit margins while attracting discerning customers.\n",
    "- **The highest profit margin** for Atliq Hardware is from **Surat city**, showcasing strong profitability. However, in contrast, the profit margin in **Bengaluru** is declining and moving into the **negative.** \n",
    "\n",
    "To mitigate the declining profits in **Bengaluru,** the company should reassess its pricing strategy and consider reducing non-essential expenditures in that region. Additionally, conducting a market analysis to understand **changing customer preferences** could help identify new opportunities for growth.\n",
    "\n",
    "\n",
    "- The company sells  the most product to these top 5 stores:\n",
    "  - **Electrical Sara Stores**\n",
    "  - **Electricalsylitical**\n",
    "  - **Excel Stores**\n",
    "  - **Premium Stores**\n",
    "  - **Nixon**\n",
    "\n",
    "\n",
    "[Click here to Download  the Power Bi Dashboard](https://github.com/Maaz-Umar-00/Sales-Insights-For-Atliq-hardware/blob/main/02_Atliq_hardware_sales_project.pbix)\n",
    "<hr style=\"border-top: 2px solid #16A085;\">\n"
   ]
  },
  {
   "cell_type": "markdown",
   "metadata": {},
   "source": [
    "<h1 style=\"font-family: 'Poppins', sans-serif; font-weight: 700; color: #1c1c1c; background: white; padding: 15px; border-radius: 10px; text-align: left; box-shadow: 0 4px 8px rgba(0, 0, 0, 0.5); letter-spacing: 1px; text-transform: capitalize; font-size: 1.5rem;\">\n",
    "<span style=\"color: #333333;\">1.Importing Libraries:</span>\n",
    "</h1> "
   ]
  },
  {
   "cell_type": "code",
   "execution_count": 1,
   "metadata": {},
   "outputs": [],
   "source": [
    "# importing libraries\n",
    "import pandas as pd \n",
    "import numpy as np \n",
    "import matplotlib.pyplot as plt\n",
    "import seaborn as sns\n",
    "import mysql\n",
    "import mysql.connector\n",
    "import os \n"
   ]
  },
  {
   "cell_type": "markdown",
   "metadata": {},
   "source": [
    "<h1 style=\"font-family: 'Poppins', sans-serif; font-weight: 700; color: #1c1c1c; background: white; padding: 12px; border-radius: 10px; text-align: left; box-shadow: 0 4px 8px rgba(0, 0, 0, 0.5); letter-spacing: 1px; text-transform: capitalize; font-size: 1.2rem;\">\n",
    "<span style=\"color: #333333;\">1.1 Connecting to the database</span>\n",
    "</h1> "
   ]
  },
  {
   "cell_type": "code",
   "execution_count": 2,
   "metadata": {},
   "outputs": [],
   "source": [
    "df=mysql.connector.connect(host='localhost',\n",
    "                           username='root',\n",
    "                           password='#####',\n",
    "                           database='sales')\n",
    "cursor=df.cursor()"
   ]
  },
  {
   "cell_type": "markdown",
   "metadata": {},
   "source": [
    "<h1 style=\"font-family: 'Poppins', sans-serif; font-weight: 700; color: #1c1c1c; background: white; padding: 12px; border-radius: 10px; text-align: left; box-shadow: 0 4px 8px rgba(0, 0, 0, 0.5); letter-spacing: 1px; text-transform: capitalize; font-size: 1.2rem;\">\n",
    "<span style=\"color: #333333;\">1.2 Taking Basic Overveiw of tansactions Tables</span>\n",
    "</h1>\n"
   ]
  },
  {
   "cell_type": "code",
   "execution_count": null,
   "metadata": {},
   "outputs": [],
   "source": [
    "# Executing the query\n",
    "query = \"\"\" SELECT * FROM transactions; \"\"\"\n",
    "cursor.execute(query)\n",
    "\n",
    "# Fetching all results\n",
    "results = cursor.fetchall()\n",
    "\n",
    "# Geting column names from cursor.description\n",
    "column_names = [desc[0] for desc in cursor.description]\n",
    "\n",
    "print(\"Columns Names Are\",column_names)\n",
    "\n",
    "# printing the 5 rows \n",
    "for row in results[:5]:\n",
    "    print(row)"
   ]
  },
  {
   "cell_type": "markdown",
   "metadata": {},
   "source": [
    "<h1 style=\"font-family: 'Poppins', sans-serif; font-weight: 700; color: #1c1c1c; background: white; padding: 12px; border-radius: 10px; text-align: left; box-shadow: 0 4px 8px rgba(0, 0, 0, 0.5); letter-spacing: 1px; text-transform: capitalize; font-size: 1.2rem;\">\n",
    "<span style=\"color: #333333;\">1.3 checking for total number of columns and rows in transactions table\n",
    "</span>\n",
    "</h1>\n"
   ]
  },
  {
   "cell_type": "code",
   "execution_count": 7,
   "metadata": {},
   "outputs": [
    {
     "name": "stdout",
     "output_type": "stream",
     "text": [
      "Total number of rows in transactions table are: 148395\n",
      "Total number of  Columns in transactions table are: 10\n"
     ]
    }
   ],
   "source": [
    "cursor.execute(f\"SELECT COUNT(*) FROM transactions\")\n",
    "total_rows = cursor.fetchone()[0]\n",
    "\n",
    "cursor.execute(f\"SHOW COLUMNS FROM transactions\")\n",
    "columns_info = cursor.fetchall()\n",
    "total_columns = len(columns_info)\n",
    "\n",
    "# Output the results\n",
    "print(f\"Total number of rows in transactions table are: {total_rows}\")\n",
    "print(f\"Total number of  Columns in transactions table are: {total_columns}\")"
   ]
  },
  {
   "cell_type": "markdown",
   "metadata": {},
   "source": [
    "<h1 style=\"font-family: 'Poppins', sans-serif; font-weight: 700; color: #1c1c1c; background: white; padding: 12px; border-radius: 10px; text-align: left; box-shadow: 0 4px 8px rgba(0, 0, 0, 0.5); letter-spacing: 1px; text-transform: capitalize; font-size: 1.2rem;\">\n",
    "<span style=\"color: #333333;\">1.4 Taking Basic overveiw of  customers table</span>\n",
    "</h1>\n"
   ]
  },
  {
   "cell_type": "code",
   "execution_count": null,
   "metadata": {},
   "outputs": [],
   "source": [
    "query = \"\"\" SELECT * FROM customers; \"\"\"\n",
    "cursor.execute(query)\n",
    "\n",
    "# Fetching all results\n",
    "results = cursor.fetchall()\n",
    "\n",
    "# Geting column names from cursor.description\n",
    "column_names = [desc[0] for desc in cursor.description]\n",
    "\n",
    "print(\"Columns Names Are\",column_names)\n",
    "\n",
    "# printing the 5 rows \n",
    "for row in results[:5]:\n",
    "    print(row)"
   ]
  },
  {
   "cell_type": "markdown",
   "metadata": {},
   "source": [
    "<h1 style=\"font-family: 'Poppins', sans-serif; font-weight: 700; color: #1c1c1c; background: white; padding: 12px; border-radius: 10px; text-align: left; box-shadow: 0 4px 8px rgba(0, 0, 0, 0.5); letter-spacing: 1px; text-transform: capitalize; font-size: 1.2rem;\">\n",
    "<span style=\"color: #333333;\">1.5 checking for total number of columns and rows in customers table\n",
    "</span>\n",
    "</h1>\n"
   ]
  },
  {
   "cell_type": "code",
   "execution_count": 8,
   "metadata": {},
   "outputs": [
    {
     "name": "stdout",
     "output_type": "stream",
     "text": [
      "Total number of rows in customers table are: 38\n",
      "Total number of  Columns in customers table are: 3\n"
     ]
    }
   ],
   "source": [
    "cursor.execute(f\"SELECT COUNT(*) FROM customers\")\n",
    "total_rows = cursor.fetchone()[0]\n",
    "\n",
    "cursor.execute(f\"SHOW COLUMNS FROM customers\")\n",
    "columns_info = cursor.fetchall()\n",
    "total_columns = len(columns_info)\n",
    "\n",
    "# Output the results\n",
    "print(f\"Total number of rows in customers table are: {total_rows}\")\n",
    "print(f\"Total number of  Columns in customers table are: {total_columns}\")"
   ]
  },
  {
   "cell_type": "markdown",
   "metadata": {},
   "source": [
    "### Observations\n",
    "---\n",
    "- **Transactions Table:** 148,395 rows and 10 columns.\n",
    "- **Customers Table:** 38 rows and 3 columns.\n",
    "- We will primarily work with these tables as they contain many useful columns for our analysis.\n"
   ]
  },
  {
   "cell_type": "markdown",
   "metadata": {},
   "source": [
    "<h1 style=\"font-family: 'Poppins', sans-serif; font-weight: 700; color: #1c1c1c; background: white; padding: 15px; border-radius: 10px; text-align: left; box-shadow: 0 4px 8px rgba(0, 0, 0, 0.5); letter-spacing: 1px; text-transform: capitalize; font-size: 1.5rem;\">\n",
    "2. Before going on further analysis, let's Check Data is accurate or not..<span style=\"color: #333333;\">\n",
    "</span>\n",
    "</h1>\n"
   ]
  },
  {
   "cell_type": "markdown",
   "metadata": {},
   "source": [
    "<h1 style=\"font-family: 'Poppins', sans-serif; font-weight: 700; color: #1c1c1c; background: white; padding: 12px; border-radius: 10px; text-align: left; box-shadow: 0 4px 8px rgba(0, 0, 0, 0.5); letter-spacing: 1px; text-transform: capitalize; font-size: 1.2rem;\">\n",
    "<span style=\"color: #333333;\">2.1 First Checking for duplicates in both tables.\n",
    "</span>\n",
    "</h1>\n"
   ]
  },
  {
   "cell_type": "code",
   "execution_count": 5,
   "metadata": {},
   "outputs": [
    {
     "name": "stdout",
     "output_type": "stream",
     "text": [
      "Luckily, we didn't find any duplicates in the Transactions Table.\n"
     ]
    }
   ],
   "source": [
    "duplicates_query_transactions = \"\"\"\n",
    "SELECT *, COUNT(*) as count\n",
    "FROM transactions\n",
    "GROUP BY product_code, customer_code, market_code, order_date, sales_qty, sales_amount, currency, profit_margin_percentage, profit_margin, cost_price\n",
    "HAVING count > 1;\n",
    "\"\"\"\n",
    "cursor.execute(duplicates_query_transactions)\n",
    "duplicates_transactions = cursor.fetchall()\n",
    "# Output the results\n",
    "if duplicates_transactions:\n",
    "    print(\"Duplicates in Transactions Table:\")\n",
    "    for row in duplicates_transactions:\n",
    "        print(row)\n",
    "else:\n",
    "    print(\"Luckily, we didn't find any duplicates in the Transactions Table.\")\n"
   ]
  },
  {
   "cell_type": "code",
   "execution_count": 9,
   "metadata": {},
   "outputs": [
    {
     "name": "stdout",
     "output_type": "stream",
     "text": [
      "Luckily, we didn't find any duplicates in the Customers Table.\n"
     ]
    }
   ],
   "source": [
    "duplicates_query_customers = \"\"\"\n",
    "SELECT *, COUNT(*) as count\n",
    "FROM customers\n",
    "GROUP BY customer_code, custmer_name, customer_type\n",
    "HAVING count > 1;\n",
    "\"\"\"\n",
    "\n",
    "# Execute the query\n",
    "cursor.execute(duplicates_query_customers)\n",
    "duplicates_customers = cursor.fetchall()\n",
    "\n",
    "\n",
    "if duplicates_customers:\n",
    "    print(\"\\nDuplicates in Customers Table:\")\n",
    "    for row in duplicates_customers:\n",
    "        print(row)\n",
    "else:\n",
    "    print(\"Luckily, we didn't find any duplicates in the Customers Table.\")"
   ]
  },
  {
   "cell_type": "markdown",
   "metadata": {},
   "source": [
    "<h1 style=\"font-family: 'Poppins', sans-serif; font-weight: 700; color: #1c1c1c; background: white; padding: 12px; border-radius: 10px; text-align: left; box-shadow: 0 4px 8px rgba(0, 0, 0, 0.5); letter-spacing: 1px; text-transform: capitalize; font-size: 1.2rem;\">\n",
    "<span style=\"color: #333333;\">2.2 Now check for missing values  in both Tables.\n",
    "</span>\n",
    "</h1>\n"
   ]
  },
  {
   "cell_type": "code",
   "execution_count": 10,
   "metadata": {},
   "outputs": [
    {
     "name": "stdout",
     "output_type": "stream",
     "text": [
      "We didn't find any missing values in the Transactions table.\n"
     ]
    }
   ],
   "source": [
    "missing_values_query_transactions = \"\"\"\n",
    "SELECT \n",
    "    COUNT(*) - COUNT(product_code) AS product_code_nulls,\n",
    "    COUNT(*) - COUNT(customer_code) AS customer_code_nulls,\n",
    "    COUNT(*) - COUNT(market_code) AS market_code_nulls,\n",
    "    COUNT(*) - COUNT(order_date) AS order_date_nulls,\n",
    "    COUNT(*) - COUNT(sales_qty) AS sales_qty_nulls,\n",
    "    COUNT(*) - COUNT(sales_amount) AS sales_amount_nulls,\n",
    "    COUNT(*) - COUNT(currency) AS currency_nulls,\n",
    "    COUNT(*) - COUNT(profit_margin_percentage) AS profit_margin_percentage_nulls,\n",
    "    COUNT(*) - COUNT(profit_margin) AS profit_margin_nulls,\n",
    "    COUNT(*) - COUNT(cost_price) AS cost_price_nulls\n",
    "FROM transactions;\n",
    "\"\"\"\n",
    "\n",
    "cursor.execute(missing_values_query_transactions)\n",
    "missing_transactions = cursor.fetchall()\n",
    "\n",
    "if all(value == 0 for value in missing_transactions[0]):\n",
    "    print(\"We didn't find any missing values in the Transactions table.\")\n",
    "else:\n",
    "    print(\"Missing Values in Transactions Table:\")\n",
    "    print(missing_transactions)\n"
   ]
  },
  {
   "cell_type": "code",
   "execution_count": 12,
   "metadata": {},
   "outputs": [
    {
     "name": "stdout",
     "output_type": "stream",
     "text": [
      "We didn't find any missing values in the Customers table.\n"
     ]
    }
   ],
   "source": [
    "missing_values_query_customers = \"\"\"\n",
    "SELECT \n",
    "    COUNT(*) - COUNT(customer_code) AS customer_code_nulls,\n",
    "    COUNT(*) - COUNT(custmer_name) AS customer_name_nulls,\n",
    "    COUNT(*) - COUNT(customer_type) AS customer_type_nulls\n",
    "FROM customers;\n",
    "\"\"\"\n",
    "cursor.execute(missing_values_query_customers)\n",
    "missing_customers = cursor.fetchall()\n",
    "\n",
    "# Check if there are any missing values in the customers table\n",
    "if all(value == 0 for value in missing_customers[0]):\n",
    "    print(\"We didn't find any missing values in the Customers table.\")\n",
    "else:\n",
    "    print(\"Missing Values in Customers Table:\")\n",
    "    print(missing_customers)"
   ]
  },
  {
   "cell_type": "markdown",
   "metadata": {},
   "source": [
    "**Luckily we didn't have duplicates and missing values in both tables and now let's move on to check for inconsistences or inaccurate data in the table.**\n"
   ]
  },
  {
   "cell_type": "markdown",
   "metadata": {},
   "source": [
    "<h1 style=\"font-family: 'Poppins', sans-serif; font-weight: 700; color: #1c1c1c; background: white; padding: 12px; border-radius: 10px; text-align: left; box-shadow: 0 4px 8px rgba(0, 0, 0, 0.5); letter-spacing: 1px; text-transform: capitalize; font-size: 1.2rem;\">\n",
    "<span style=\"color: #333333;\">2.3 Let's check for inconsistent or inaccurate data in both tables.\n",
    "</span>\n",
    "</h1>\n"
   ]
  },
  {
   "cell_type": "code",
   "execution_count": 21,
   "metadata": {},
   "outputs": [
    {
     "name": "stdout",
     "output_type": "stream",
     "text": [
      "['product_code', 'customer_code', 'market_code', 'order_date', 'sales_qty', 'sales_amount', 'currency', 'profit_margin_percentage', 'profit_margin', 'cost_price']\n"
     ]
    }
   ],
   "source": [
    "column_names = [desc[0] for desc in cursor.description]\n",
    "print(column_names)"
   ]
  },
  {
   "cell_type": "code",
   "execution_count": null,
   "metadata": {},
   "outputs": [],
   "source": [
    "query = \"\"\"\n",
    "SELECT * from transactions\n",
    "\"\"\"\n",
    "[desc[0] for desc in cursor.description]\n",
    "# printing the 5 rows \n",
    "for row in results:\n",
    "    print(row)"
   ]
  },
  {
   "cell_type": "markdown",
   "metadata": {},
   "source": [
    "<h1 style=\"font-family: 'Poppins', sans-serif; font-weight: 700; color: #1c1c1c; background: white; padding: 8px; border-radius: 10px; text-align: left; box-shadow: 0 4px 8px rgba(0, 0, 0, 0.5); letter-spacing: 1px; text-transform: capitalize; font-size: 1rem;\">\n",
    "<span style=\"color: #333333;\">2.3.1 checking unique values in the currency column\n",
    "</span>\n",
    "</h1>\n"
   ]
  },
  {
   "cell_type": "code",
   "execution_count": 27,
   "metadata": {},
   "outputs": [
    {
     "name": "stdout",
     "output_type": "stream",
     "text": [
      "('INR',)\n",
      "('USD',)\n"
     ]
    }
   ],
   "source": [
    "query = \"\"\"\n",
    "SELECT DISTINCT(currency) FROM transactions;\n",
    "\"\"\"\n",
    "\n",
    "# Execute the query\n",
    "cursor.execute(query)\n",
    "\n",
    "# Fetch and print the unique currencies\n",
    "unique_currencies = cursor.fetchall()\n",
    "for currency in unique_currencies:\n",
    "    print(currency)"
   ]
  },
  {
   "cell_type": "markdown",
   "metadata": {},
   "source": [
    "### Observations\n",
    "-----\n",
    "- I am noticing that there is a `-1` in the sales amount, which is not possible because the sales amount cannot be negative.\n",
    "- Additionally, the currency column contains both `INR` and `USD`, but since this data is primarily in `INR`, we will convert the `USD` values to `INR`.\n",
    "\n",
    "\n",
    "  Now, we will move on to Power BI, where we will perform data cleaning and analysis.\n",
    "\n",
    "<h2 style=\"color: #D35400; font-family: Arial, sans-serif;\">Now, We will move on to <span style=\"font-weight: bold; color: #16A085;\">Power Bi</span> where we will perform data cleaning and analysis.</h2>\n",
    "<p style=\"font-size: 18px; color: #2C3E50; font-family: 'Georgia', serif;\">\n",
    "Power Bi provides advanced visualizations and allows us to explore the data more effectively. Stay tuned for insights!\n",
    "</p>\n",
    "\n",
    "[Click here to download Power Bi Dashboard](https://github.com/Maaz-Umar-00/Sales-Insights-For-Atliq-hardware/blob/main/02_Atliq_hardware_sales_project.pbix)\n",
    "<hr style=\"border-top: 2px solid #16A085;\">\n",
    "\n",
    "`"
   ]
  }
 ],
 "metadata": {
  "kernelspec": {
   "display_name": "TF_GPU",
   "language": "python",
   "name": "python3"
  },
  "language_info": {
   "codemirror_mode": {
    "name": "ipython",
    "version": 3
   },
   "file_extension": ".py",
   "mimetype": "text/x-python",
   "name": "python",
   "nbconvert_exporter": "python",
   "pygments_lexer": "ipython3",
   "version": "3.9.19"
  }
 },
 "nbformat": 4,
 "nbformat_minor": 2
}
